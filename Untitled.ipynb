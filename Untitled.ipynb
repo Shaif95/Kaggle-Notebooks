{
 "cells": [
  {
   "cell_type": "code",
   "execution_count": 1,
   "id": "aabfb2d9",
   "metadata": {},
   "outputs": [
    {
     "name": "stdout",
     "output_type": "stream",
     "text": [
      "Collecting tensorflow==2.10\n",
      "  Downloading tensorflow-2.10.0-cp310-cp310-win_amd64.whl (455.9 MB)\n",
      "     -------------------------------------- 455.9/455.9 MB 4.1 MB/s eta 0:00:00\n",
      "Requirement already satisfied: keras==2.10 in c:\\users\\shaif\\anaconda3\\lib\\site-packages (2.10.0)\n",
      "Collecting keras-nlp==0.5.2\n",
      "  Downloading keras_nlp-0.5.2-py3-none-any.whl (527 kB)\n",
      "     ------------------------------------- 527.7/527.7 kB 34.5 MB/s eta 0:00:00\n",
      "Requirement already satisfied: keras-preprocessing>=1.1.1 in c:\\users\\shaif\\anaconda3\\lib\\site-packages (from tensorflow==2.10) (1.1.2)\n",
      "Requirement already satisfied: numpy>=1.20 in c:\\users\\shaif\\anaconda3\\lib\\site-packages (from tensorflow==2.10) (1.23.5)\n",
      "Requirement already satisfied: tensorboard<2.11,>=2.10 in c:\\users\\shaif\\anaconda3\\lib\\site-packages (from tensorflow==2.10) (2.10.1)\n",
      "Requirement already satisfied: tensorflow-estimator<2.11,>=2.10.0 in c:\\users\\shaif\\anaconda3\\lib\\site-packages (from tensorflow==2.10) (2.10.0)\n",
      "Requirement already satisfied: absl-py>=1.0.0 in c:\\users\\shaif\\appdata\\roaming\\python\\python310\\site-packages (from tensorflow==2.10) (1.4.0)\n",
      "Requirement already satisfied: libclang>=13.0.0 in c:\\users\\shaif\\anaconda3\\lib\\site-packages (from tensorflow==2.10) (16.0.6)\n",
      "Requirement already satisfied: opt-einsum>=2.3.2 in c:\\users\\shaif\\anaconda3\\lib\\site-packages (from tensorflow==2.10) (3.3.0)\n",
      "Requirement already satisfied: h5py>=2.9.0 in c:\\users\\shaif\\anaconda3\\lib\\site-packages (from tensorflow==2.10) (3.11.0)\n",
      "Requirement already satisfied: astunparse>=1.6.0 in c:\\users\\shaif\\anaconda3\\lib\\site-packages (from tensorflow==2.10) (1.6.3)\n",
      "Requirement already satisfied: packaging in c:\\users\\shaif\\anaconda3\\lib\\site-packages (from tensorflow==2.10) (22.0)\n",
      "Requirement already satisfied: flatbuffers>=2.0 in c:\\users\\shaif\\anaconda3\\lib\\site-packages (from tensorflow==2.10) (24.3.25)\n",
      "Requirement already satisfied: tensorflow-io-gcs-filesystem>=0.23.1 in c:\\users\\shaif\\anaconda3\\lib\\site-packages (from tensorflow==2.10) (0.31.0)\n",
      "Requirement already satisfied: protobuf<3.20,>=3.9.2 in c:\\users\\shaif\\anaconda3\\lib\\site-packages (from tensorflow==2.10) (3.19.6)\n",
      "Requirement already satisfied: gast<=0.4.0,>=0.2.1 in c:\\users\\shaif\\anaconda3\\lib\\site-packages (from tensorflow==2.10) (0.4.0)\n",
      "Requirement already satisfied: grpcio<2.0,>=1.24.3 in c:\\users\\shaif\\anaconda3\\lib\\site-packages (from tensorflow==2.10) (1.62.0)\n",
      "Requirement already satisfied: google-pasta>=0.1.1 in c:\\users\\shaif\\anaconda3\\lib\\site-packages (from tensorflow==2.10) (0.2.0)\n",
      "Requirement already satisfied: wrapt>=1.11.0 in c:\\users\\shaif\\anaconda3\\lib\\site-packages (from tensorflow==2.10) (1.14.1)\n",
      "Requirement already satisfied: setuptools in c:\\users\\shaif\\anaconda3\\lib\\site-packages (from tensorflow==2.10) (65.6.3)\n",
      "Requirement already satisfied: six>=1.12.0 in c:\\users\\shaif\\anaconda3\\lib\\site-packages (from tensorflow==2.10) (1.16.0)\n",
      "Requirement already satisfied: typing-extensions>=3.6.6 in c:\\users\\shaif\\anaconda3\\lib\\site-packages (from tensorflow==2.10) (4.9.0)\n",
      "Requirement already satisfied: termcolor>=1.1.0 in c:\\users\\shaif\\anaconda3\\lib\\site-packages (from tensorflow==2.10) (2.4.0)\n",
      "Requirement already satisfied: tensorflow-text in c:\\users\\shaif\\anaconda3\\lib\\site-packages (from keras-nlp==0.5.2) (2.10.0)\n",
      "Requirement already satisfied: wheel<1.0,>=0.23.0 in c:\\users\\shaif\\anaconda3\\lib\\site-packages (from astunparse>=1.6.0->tensorflow==2.10) (0.38.4)\n",
      "Requirement already satisfied: werkzeug>=1.0.1 in c:\\users\\shaif\\anaconda3\\lib\\site-packages (from tensorboard<2.11,>=2.10->tensorflow==2.10) (2.2.2)\n",
      "Requirement already satisfied: google-auth-oauthlib<0.5,>=0.4.1 in c:\\users\\shaif\\anaconda3\\lib\\site-packages (from tensorboard<2.11,>=2.10->tensorflow==2.10) (0.4.6)\n",
      "Requirement already satisfied: requests<3,>=2.21.0 in c:\\users\\shaif\\anaconda3\\lib\\site-packages (from tensorboard<2.11,>=2.10->tensorflow==2.10) (2.28.1)\n",
      "Requirement already satisfied: google-auth<3,>=1.6.3 in c:\\users\\shaif\\anaconda3\\lib\\site-packages (from tensorboard<2.11,>=2.10->tensorflow==2.10) (2.28.1)\n",
      "Requirement already satisfied: tensorboard-data-server<0.7.0,>=0.6.0 in c:\\users\\shaif\\anaconda3\\lib\\site-packages (from tensorboard<2.11,>=2.10->tensorflow==2.10) (0.6.1)\n",
      "Requirement already satisfied: tensorboard-plugin-wit>=1.6.0 in c:\\users\\shaif\\anaconda3\\lib\\site-packages (from tensorboard<2.11,>=2.10->tensorflow==2.10) (1.8.1)\n",
      "Requirement already satisfied: markdown>=2.6.8 in c:\\users\\shaif\\anaconda3\\lib\\site-packages (from tensorboard<2.11,>=2.10->tensorflow==2.10) (3.4.1)\n",
      "Requirement already satisfied: tensorflow-hub>=0.8.0 in c:\\users\\shaif\\anaconda3\\lib\\site-packages (from tensorflow-text->keras-nlp==0.5.2) (0.16.1)\n",
      "Requirement already satisfied: pyasn1-modules>=0.2.1 in c:\\users\\shaif\\anaconda3\\lib\\site-packages (from google-auth<3,>=1.6.3->tensorboard<2.11,>=2.10->tensorflow==2.10) (0.2.8)\n",
      "Requirement already satisfied: cachetools<6.0,>=2.0.0 in c:\\users\\shaif\\anaconda3\\lib\\site-packages (from google-auth<3,>=1.6.3->tensorboard<2.11,>=2.10->tensorflow==2.10) (5.3.2)\n",
      "Requirement already satisfied: rsa<5,>=3.1.4 in c:\\users\\shaif\\anaconda3\\lib\\site-packages (from google-auth<3,>=1.6.3->tensorboard<2.11,>=2.10->tensorflow==2.10) (4.9)\n",
      "Requirement already satisfied: requests-oauthlib>=0.7.0 in c:\\users\\shaif\\anaconda3\\lib\\site-packages (from google-auth-oauthlib<0.5,>=0.4.1->tensorboard<2.11,>=2.10->tensorflow==2.10) (1.3.1)\n",
      "Requirement already satisfied: urllib3<1.27,>=1.21.1 in c:\\users\\shaif\\anaconda3\\lib\\site-packages (from requests<3,>=2.21.0->tensorboard<2.11,>=2.10->tensorflow==2.10) (1.26.14)\n",
      "Requirement already satisfied: charset-normalizer<3,>=2 in c:\\users\\shaif\\anaconda3\\lib\\site-packages (from requests<3,>=2.21.0->tensorboard<2.11,>=2.10->tensorflow==2.10) (2.0.4)\n",
      "Requirement already satisfied: certifi>=2017.4.17 in c:\\users\\shaif\\anaconda3\\lib\\site-packages (from requests<3,>=2.21.0->tensorboard<2.11,>=2.10->tensorflow==2.10) (2022.12.7)\n",
      "Requirement already satisfied: idna<4,>=2.5 in c:\\users\\shaif\\anaconda3\\lib\\site-packages (from requests<3,>=2.21.0->tensorboard<2.11,>=2.10->tensorflow==2.10) (3.4)\n",
      "Requirement already satisfied: tf-keras>=2.14.1 in c:\\users\\shaif\\anaconda3\\lib\\site-packages (from tensorflow-hub>=0.8.0->tensorflow-text->keras-nlp==0.5.2) (2.15.0)\n",
      "Requirement already satisfied: MarkupSafe>=2.1.1 in c:\\users\\shaif\\anaconda3\\lib\\site-packages (from werkzeug>=1.0.1->tensorboard<2.11,>=2.10->tensorflow==2.10) (2.1.1)\n",
      "Requirement already satisfied: pyasn1<0.5.0,>=0.4.6 in c:\\users\\shaif\\anaconda3\\lib\\site-packages (from pyasn1-modules>=0.2.1->google-auth<3,>=1.6.3->tensorboard<2.11,>=2.10->tensorflow==2.10) (0.4.8)\n",
      "Requirement already satisfied: oauthlib>=3.0.0 in c:\\users\\shaif\\anaconda3\\lib\\site-packages (from requests-oauthlib>=0.7.0->google-auth-oauthlib<0.5,>=0.4.1->tensorboard<2.11,>=2.10->tensorflow==2.10) (3.2.2)\n",
      "Installing collected packages: tensorflow, keras-nlp\n",
      "  Attempting uninstall: keras-nlp\n",
      "    Found existing installation: keras-nlp 0.15.1\n",
      "    Uninstalling keras-nlp-0.15.1:\n",
      "      Successfully uninstalled keras-nlp-0.15.1\n",
      "Successfully installed keras-nlp-0.5.2 tensorflow-2.10.0\n",
      "Note: you may need to restart the kernel to use updated packages.\n"
     ]
    },
    {
     "name": "stderr",
     "output_type": "stream",
     "text": [
      "WARNING: Ignoring invalid distribution -rotobuf (c:\\users\\shaif\\anaconda3\\lib\\site-packages)\n",
      "WARNING: Ignoring invalid distribution -rotobuf (c:\\users\\shaif\\anaconda3\\lib\\site-packages)\n",
      "WARNING: Ignoring invalid distribution -rotobuf (c:\\users\\shaif\\anaconda3\\lib\\site-packages)\n",
      "    WARNING: Ignoring invalid distribution -rotobuf (c:\\users\\shaif\\anaconda3\\lib\\site-packages)\n",
      "WARNING: Ignoring invalid distribution -rotobuf (c:\\users\\shaif\\anaconda3\\lib\\site-packages)\n",
      "WARNING: Ignoring invalid distribution -rotobuf (c:\\users\\shaif\\anaconda3\\lib\\site-packages)\n",
      "WARNING: Ignoring invalid distribution -rotobuf (c:\\users\\shaif\\anaconda3\\lib\\site-packages)\n",
      "WARNING: Ignoring invalid distribution -rotobuf (c:\\users\\shaif\\anaconda3\\lib\\site-packages)\n",
      "WARNING: Ignoring invalid distribution -rotobuf (c:\\users\\shaif\\anaconda3\\lib\\site-packages)\n"
     ]
    }
   ],
   "source": [
    "pip install tensorflow==2.10 keras==2.10 keras-nlp==0.5.2"
   ]
  },
  {
   "cell_type": "code",
   "execution_count": 3,
   "id": "89172937",
   "metadata": {},
   "outputs": [
    {
     "name": "stdout",
     "output_type": "stream",
     "text": [
      "Collecting protobuf==3.20.0\n",
      "  Downloading protobuf-3.20.0-cp310-cp310-win_amd64.whl (903 kB)\n",
      "     -------------------------------------- 903.8/903.8 kB 4.4 MB/s eta 0:00:00\n",
      "Installing collected packages: protobuf\n",
      "Successfully installed protobuf-3.20.0\n",
      "Note: you may need to restart the kernel to use updated packages.\n"
     ]
    },
    {
     "name": "stderr",
     "output_type": "stream",
     "text": [
      "WARNING: Ignoring invalid distribution -rotobuf (c:\\users\\shaif\\anaconda3\\lib\\site-packages)\n",
      "WARNING: Ignoring invalid distribution -rotobuf (c:\\users\\shaif\\anaconda3\\lib\\site-packages)\n",
      "WARNING: Ignoring invalid distribution -rotobuf (c:\\users\\shaif\\anaconda3\\lib\\site-packages)\n",
      "WARNING: Ignoring invalid distribution -rotobuf (c:\\users\\shaif\\anaconda3\\lib\\site-packages)\n",
      "ERROR: pip's dependency resolver does not currently take into account all the packages that are installed. This behaviour is the source of the following dependency conflicts.\n",
      "ortools 9.7.2996 requires protobuf>=4.23.3, but you have protobuf 3.20.0 which is incompatible.\n",
      "tensorflow 2.10.0 requires protobuf<3.20,>=3.9.2, but you have protobuf 3.20.0 which is incompatible.\n",
      "tensorflow-metadata 1.14.0 requires protobuf<4.21,>=3.20.3, but you have protobuf 3.20.0 which is incompatible.\n",
      "tensorboard 2.10.1 requires protobuf<3.20,>=3.9.2, but you have protobuf 3.20.0 which is incompatible.\n",
      "googleapis-common-protos 1.62.0 requires protobuf!=3.20.0,!=3.20.1,!=4.21.1,!=4.21.2,!=4.21.3,!=4.21.4,!=4.21.5,<5.0.0.dev0,>=3.19.5, but you have protobuf 3.20.0 which is incompatible.\n",
      "flwr 1.7.0 requires protobuf<5.0.0,>=4.25.2, but you have protobuf 3.20.0 which is incompatible.\n",
      "WARNING: Ignoring invalid distribution -rotobuf (c:\\users\\shaif\\anaconda3\\lib\\site-packages)\n",
      "WARNING: Ignoring invalid distribution -rotobuf (c:\\users\\shaif\\anaconda3\\lib\\site-packages)\n",
      "WARNING: Ignoring invalid distribution -rotobuf (c:\\users\\shaif\\anaconda3\\lib\\site-packages)\n"
     ]
    }
   ],
   "source": [
    "pip install protobuf==3.20.0"
   ]
  },
  {
   "cell_type": "code",
   "execution_count": 6,
   "id": "b335e1d0",
   "metadata": {},
   "outputs": [
    {
     "name": "stdout",
     "output_type": "stream",
     "text": [
      "Collecting fsspec==2023.6.0\n",
      "  Using cached fsspec-2023.6.0-py3-none-any.whl (163 kB)\n",
      "Collecting datasets==2.14.5\n",
      "  Downloading datasets-2.14.5-py3-none-any.whl (519 kB)\n",
      "     -------------------------------------- 519.6/519.6 kB 4.7 MB/s eta 0:00:00\n",
      "Collecting dill<0.3.8,>=0.3.0\n",
      "  Using cached dill-0.3.7-py3-none-any.whl (115 kB)\n",
      "Requirement already satisfied: pyyaml>=5.1 in c:\\users\\shaif\\anaconda3\\lib\\site-packages (from datasets==2.14.5) (6.0)\n",
      "Requirement already satisfied: pyarrow>=8.0.0 in c:\\users\\shaif\\anaconda3\\lib\\site-packages (from datasets==2.14.5) (17.0.0)\n",
      "Requirement already satisfied: aiohttp in c:\\users\\shaif\\anaconda3\\lib\\site-packages (from datasets==2.14.5) (3.9.3)\n",
      "Requirement already satisfied: multiprocess in c:\\users\\shaif\\anaconda3\\lib\\site-packages (from datasets==2.14.5) (0.70.16)\n",
      "Requirement already satisfied: xxhash in c:\\users\\shaif\\anaconda3\\lib\\site-packages (from datasets==2.14.5) (3.5.0)\n",
      "Requirement already satisfied: pandas in c:\\users\\shaif\\anaconda3\\lib\\site-packages (from datasets==2.14.5) (1.5.3)\n",
      "Requirement already satisfied: packaging in c:\\users\\shaif\\anaconda3\\lib\\site-packages (from datasets==2.14.5) (22.0)\n",
      "Requirement already satisfied: requests>=2.19.0 in c:\\users\\shaif\\anaconda3\\lib\\site-packages (from datasets==2.14.5) (2.32.3)\n",
      "Requirement already satisfied: huggingface-hub<1.0.0,>=0.14.0 in c:\\users\\shaif\\anaconda3\\lib\\site-packages (from datasets==2.14.5) (0.25.2)\n",
      "Requirement already satisfied: tqdm>=4.62.1 in c:\\users\\shaif\\anaconda3\\lib\\site-packages (from datasets==2.14.5) (4.66.5)\n",
      "Requirement already satisfied: numpy>=1.17 in c:\\users\\shaif\\anaconda3\\lib\\site-packages (from datasets==2.14.5) (1.23.5)\n",
      "Requirement already satisfied: frozenlist>=1.1.1 in c:\\users\\shaif\\anaconda3\\lib\\site-packages (from aiohttp->datasets==2.14.5) (1.4.1)\n",
      "Requirement already satisfied: async-timeout<5.0,>=4.0 in c:\\users\\shaif\\anaconda3\\lib\\site-packages (from aiohttp->datasets==2.14.5) (4.0.3)\n",
      "Requirement already satisfied: attrs>=17.3.0 in c:\\users\\shaif\\anaconda3\\lib\\site-packages (from aiohttp->datasets==2.14.5) (22.1.0)\n",
      "Requirement already satisfied: aiosignal>=1.1.2 in c:\\users\\shaif\\anaconda3\\lib\\site-packages (from aiohttp->datasets==2.14.5) (1.3.1)\n",
      "Requirement already satisfied: multidict<7.0,>=4.5 in c:\\users\\shaif\\anaconda3\\lib\\site-packages (from aiohttp->datasets==2.14.5) (6.0.5)\n",
      "Requirement already satisfied: yarl<2.0,>=1.0 in c:\\users\\shaif\\anaconda3\\lib\\site-packages (from aiohttp->datasets==2.14.5) (1.9.4)\n",
      "Requirement already satisfied: filelock in c:\\users\\shaif\\anaconda3\\lib\\site-packages (from huggingface-hub<1.0.0,>=0.14.0->datasets==2.14.5) (3.9.0)\n",
      "Requirement already satisfied: typing-extensions>=3.7.4.3 in c:\\users\\shaif\\anaconda3\\lib\\site-packages (from huggingface-hub<1.0.0,>=0.14.0->datasets==2.14.5) (4.9.0)\n",
      "Requirement already satisfied: charset-normalizer<4,>=2 in c:\\users\\shaif\\anaconda3\\lib\\site-packages (from requests>=2.19.0->datasets==2.14.5) (2.0.4)\n",
      "Requirement already satisfied: urllib3<3,>=1.21.1 in c:\\users\\shaif\\anaconda3\\lib\\site-packages (from requests>=2.19.0->datasets==2.14.5) (1.26.14)\n",
      "Requirement already satisfied: certifi>=2017.4.17 in c:\\users\\shaif\\anaconda3\\lib\\site-packages (from requests>=2.19.0->datasets==2.14.5) (2022.12.7)\n",
      "Requirement already satisfied: idna<4,>=2.5 in c:\\users\\shaif\\anaconda3\\lib\\site-packages (from requests>=2.19.0->datasets==2.14.5) (3.4)\n",
      "Requirement already satisfied: colorama in c:\\users\\shaif\\anaconda3\\lib\\site-packages (from tqdm>=4.62.1->datasets==2.14.5) (0.4.6)\n",
      "Collecting multiprocess\n",
      "  Using cached multiprocess-0.70.17-py310-none-any.whl (134 kB)\n",
      "  Downloading multiprocess-0.70.15-py310-none-any.whl (134 kB)\n",
      "     -------------------------------------- 134.8/134.8 kB 7.8 MB/s eta 0:00:00\n",
      "Requirement already satisfied: python-dateutil>=2.8.1 in c:\\users\\shaif\\anaconda3\\lib\\site-packages (from pandas->datasets==2.14.5) (2.8.2)\n",
      "Requirement already satisfied: pytz>=2020.1 in c:\\users\\shaif\\anaconda3\\lib\\site-packages (from pandas->datasets==2.14.5) (2022.7)\n",
      "Requirement already satisfied: six>=1.5 in c:\\users\\shaif\\anaconda3\\lib\\site-packages (from python-dateutil>=2.8.1->pandas->datasets==2.14.5) (1.16.0)\n",
      "Installing collected packages: fsspec, dill, multiprocess, datasets\n",
      "  Attempting uninstall: fsspec\n",
      "    Found existing installation: fsspec 2024.6.1\n",
      "    Uninstalling fsspec-2024.6.1:\n",
      "      Successfully uninstalled fsspec-2024.6.1\n",
      "  Attempting uninstall: dill\n",
      "    Found existing installation: dill 0.3.8\n",
      "    Uninstalling dill-0.3.8:\n",
      "      Successfully uninstalled dill-0.3.8\n",
      "  Attempting uninstall: multiprocess\n",
      "    Found existing installation: multiprocess 0.70.16\n",
      "    Uninstalling multiprocess-0.70.16:\n",
      "      Successfully uninstalled multiprocess-0.70.16\n",
      "  Attempting uninstall: datasets\n",
      "    Found existing installation: datasets 3.0.1\n",
      "    Uninstalling datasets-3.0.1:\n",
      "      Successfully uninstalled datasets-3.0.1\n",
      "Successfully installed datasets-2.14.5 dill-0.3.7 fsspec-2023.6.0 multiprocess-0.70.15\n",
      "Note: you may need to restart the kernel to use updated packages.\n"
     ]
    },
    {
     "name": "stderr",
     "output_type": "stream",
     "text": [
      "WARNING: Ignoring invalid distribution -rotobuf (c:\\users\\shaif\\anaconda3\\lib\\site-packages)\n",
      "WARNING: Ignoring invalid distribution -rotobuf (c:\\users\\shaif\\anaconda3\\lib\\site-packages)\n",
      "WARNING: Ignoring invalid distribution -rotobuf (c:\\users\\shaif\\anaconda3\\lib\\site-packages)\n",
      "    WARNING: Ignoring invalid distribution -rotobuf (c:\\users\\shaif\\anaconda3\\lib\\site-packages)\n",
      "    WARNING: Ignoring invalid distribution -rotobuf (c:\\users\\shaif\\anaconda3\\lib\\site-packages)\n",
      "    WARNING: Ignoring invalid distribution -rotobuf (c:\\users\\shaif\\anaconda3\\lib\\site-packages)\n",
      "    WARNING: Ignoring invalid distribution -rotobuf (c:\\users\\shaif\\anaconda3\\lib\\site-packages)\n",
      "WARNING: Ignoring invalid distribution -rotobuf (c:\\users\\shaif\\anaconda3\\lib\\site-packages)\n",
      "WARNING: Ignoring invalid distribution -rotobuf (c:\\users\\shaif\\anaconda3\\lib\\site-packages)\n",
      "WARNING: Ignoring invalid distribution -rotobuf (c:\\users\\shaif\\anaconda3\\lib\\site-packages)\n",
      "WARNING: Ignoring invalid distribution -rotobuf (c:\\users\\shaif\\anaconda3\\lib\\site-packages)\n",
      "WARNING: Ignoring invalid distribution -rotobuf (c:\\users\\shaif\\anaconda3\\lib\\site-packages)\n",
      "WARNING: Ignoring invalid distribution -rotobuf (c:\\users\\shaif\\anaconda3\\lib\\site-packages)\n",
      "WARNING: Ignoring invalid distribution -rotobuf (c:\\users\\shaif\\anaconda3\\lib\\site-packages)\n"
     ]
    }
   ],
   "source": [
    "pip install fsspec==2023.6.0 datasets==2.14.5\n"
   ]
  },
  {
   "cell_type": "code",
   "execution_count": 4,
   "id": "d3dd966d",
   "metadata": {},
   "outputs": [
    {
     "name": "stdout",
     "output_type": "stream",
     "text": [
      "Requirement already satisfied: transformers in c:\\users\\shaif\\anaconda3\\lib\\site-packages (4.24.0)\n",
      "Requirement already satisfied: huggingface-hub<1.0,>=0.10.0 in c:\\users\\shaif\\anaconda3\\lib\\site-packages (from transformers) (0.25.2)\n",
      "Requirement already satisfied: pyyaml>=5.1 in c:\\users\\shaif\\anaconda3\\lib\\site-packages (from transformers) (6.0)\n",
      "Requirement already satisfied: requests in c:\\users\\shaif\\anaconda3\\lib\\site-packages (from transformers) (2.32.3)\n",
      "Requirement already satisfied: filelock in c:\\users\\shaif\\anaconda3\\lib\\site-packages (from transformers) (3.9.0)\n",
      "Requirement already satisfied: regex!=2019.12.17 in c:\\users\\shaif\\anaconda3\\lib\\site-packages (from transformers) (2022.7.9)\n",
      "Requirement already satisfied: packaging>=20.0 in c:\\users\\shaif\\anaconda3\\lib\\site-packages (from transformers) (22.0)\n",
      "Requirement already satisfied: tqdm>=4.27 in c:\\users\\shaif\\anaconda3\\lib\\site-packages (from transformers) (4.66.5)\n",
      "Requirement already satisfied: tokenizers!=0.11.3,<0.14,>=0.11.1 in c:\\users\\shaif\\anaconda3\\lib\\site-packages (from transformers) (0.11.4)\n",
      "Requirement already satisfied: numpy>=1.17 in c:\\users\\shaif\\anaconda3\\lib\\site-packages (from transformers) (1.23.5)\n",
      "Requirement already satisfied: typing-extensions>=3.7.4.3 in c:\\users\\shaif\\anaconda3\\lib\\site-packages (from huggingface-hub<1.0,>=0.10.0->transformers) (4.9.0)\n",
      "Requirement already satisfied: fsspec>=2023.5.0 in c:\\users\\shaif\\anaconda3\\lib\\site-packages (from huggingface-hub<1.0,>=0.10.0->transformers) (2024.6.1)\n",
      "Requirement already satisfied: colorama in c:\\users\\shaif\\anaconda3\\lib\\site-packages (from tqdm>=4.27->transformers) (0.4.6)\n",
      "Requirement already satisfied: idna<4,>=2.5 in c:\\users\\shaif\\anaconda3\\lib\\site-packages (from requests->transformers) (3.4)\n",
      "Requirement already satisfied: certifi>=2017.4.17 in c:\\users\\shaif\\anaconda3\\lib\\site-packages (from requests->transformers) (2022.12.7)\n",
      "Requirement already satisfied: urllib3<3,>=1.21.1 in c:\\users\\shaif\\anaconda3\\lib\\site-packages (from requests->transformers) (1.26.14)\n",
      "Requirement already satisfied: charset-normalizer<4,>=2 in c:\\users\\shaif\\anaconda3\\lib\\site-packages (from requests->transformers) (2.0.4)\n",
      "Note: you may need to restart the kernel to use updated packages.\n"
     ]
    },
    {
     "name": "stderr",
     "output_type": "stream",
     "text": [
      "WARNING: Ignoring invalid distribution -rotobuf (c:\\users\\shaif\\anaconda3\\lib\\site-packages)\n",
      "WARNING: Ignoring invalid distribution -rotobuf (c:\\users\\shaif\\anaconda3\\lib\\site-packages)\n",
      "WARNING: Ignoring invalid distribution -rotobuf (c:\\users\\shaif\\anaconda3\\lib\\site-packages)\n",
      "WARNING: Ignoring invalid distribution -rotobuf (c:\\users\\shaif\\anaconda3\\lib\\site-packages)\n",
      "WARNING: Ignoring invalid distribution -rotobuf (c:\\users\\shaif\\anaconda3\\lib\\site-packages)\n",
      "WARNING: Ignoring invalid distribution -rotobuf (c:\\users\\shaif\\anaconda3\\lib\\site-packages)\n"
     ]
    }
   ],
   "source": [
    "pip install transformers"
   ]
  },
  {
   "cell_type": "code",
   "execution_count": null,
   "id": "0de288e8",
   "metadata": {},
   "outputs": [],
   "source": []
  },
  {
   "cell_type": "code",
   "execution_count": null,
   "id": "63544213",
   "metadata": {},
   "outputs": [],
   "source": []
  },
  {
   "cell_type": "code",
   "execution_count": 1,
   "id": "9b47bf95",
   "metadata": {},
   "outputs": [
    {
     "data": {
      "application/vnd.jupyter.widget-view+json": {
       "model_id": "0e5fe71a237547a58c8b440551e03cc7",
       "version_major": 2,
       "version_minor": 0
      },
      "text/plain": [
       "Downloading readme:   0%|          | 0.00/3.14k [00:00<?, ?B/s]"
      ]
     },
     "metadata": {},
     "output_type": "display_data"
    },
    {
     "data": {
      "application/vnd.jupyter.widget-view+json": {
       "model_id": "6d47eb67f4024db4ae51530c6546828d",
       "version_major": 2,
       "version_minor": 0
      },
      "text/plain": [
       "Downloading metadata:   0%|          | 0.00/953 [00:00<?, ?B/s]"
      ]
     },
     "metadata": {},
     "output_type": "display_data"
    },
    {
     "data": {
      "application/vnd.jupyter.widget-view+json": {
       "model_id": "6a1f46b0e1074dae92b7ad332d24956b",
       "version_major": 2,
       "version_minor": 0
      },
      "text/plain": [
       "Downloading data files:   0%|          | 0/3 [00:00<?, ?it/s]"
      ]
     },
     "metadata": {},
     "output_type": "display_data"
    },
    {
     "data": {
      "application/vnd.jupyter.widget-view+json": {
       "model_id": "6394d554669d43ac9cf90dcd67d931fb",
       "version_major": 2,
       "version_minor": 0
      },
      "text/plain": [
       "Downloading data:   0%|          | 0.00/190M [00:00<?, ?B/s]"
      ]
     },
     "metadata": {},
     "output_type": "display_data"
    },
    {
     "data": {
      "application/vnd.jupyter.widget-view+json": {
       "model_id": "17073716c9744310a7d1f1b2ed72e845",
       "version_major": 2,
       "version_minor": 0
      },
      "text/plain": [
       "Downloading data:   0%|          | 0.00/85.7k [00:00<?, ?B/s]"
      ]
     },
     "metadata": {},
     "output_type": "display_data"
    },
    {
     "data": {
      "application/vnd.jupyter.widget-view+json": {
       "model_id": "7b65ca1659bd4f02af642f074992ce82",
       "version_major": 2,
       "version_minor": 0
      },
      "text/plain": [
       "Downloading data:   0%|          | 0.00/500k [00:00<?, ?B/s]"
      ]
     },
     "metadata": {},
     "output_type": "display_data"
    },
    {
     "data": {
      "application/vnd.jupyter.widget-view+json": {
       "model_id": "6659efb83cf34dfaacb3341aacc58100",
       "version_major": 2,
       "version_minor": 0
      },
      "text/plain": [
       "Extracting data files:   0%|          | 0/3 [00:00<?, ?it/s]"
      ]
     },
     "metadata": {},
     "output_type": "display_data"
    },
    {
     "data": {
      "application/vnd.jupyter.widget-view+json": {
       "model_id": "f8c3892ea28a4fa49c9753c299371bc3",
       "version_major": 2,
       "version_minor": 0
      },
      "text/plain": [
       "Generating train split:   0%|          | 0/1659083 [00:00<?, ? examples/s]"
      ]
     },
     "metadata": {},
     "output_type": "display_data"
    },
    {
     "data": {
      "application/vnd.jupyter.widget-view+json": {
       "model_id": "192730a8635940f89722b8f6d9d0db95",
       "version_major": 2,
       "version_minor": 0
      },
      "text/plain": [
       "Generating validation split:   0%|          | 0/520 [00:00<?, ? examples/s]"
      ]
     },
     "metadata": {},
     "output_type": "display_data"
    },
    {
     "data": {
      "application/vnd.jupyter.widget-view+json": {
       "model_id": "7dee136185fa4a09849c071f712ca43a",
       "version_major": 2,
       "version_minor": 0
      },
      "text/plain": [
       "Generating test split:   0%|          | 0/2507 [00:00<?, ? examples/s]"
      ]
     },
     "metadata": {},
     "output_type": "display_data"
    },
    {
     "name": "stderr",
     "output_type": "stream",
     "text": [
      "C:\\Users\\shaif\\anaconda3\\lib\\site-packages\\huggingface_hub\\file_download.py:1142: FutureWarning: `resume_download` is deprecated and will be removed in version 1.0.0. Downloads always resume when possible. If you want to force a new download, use `force_download=True`.\n",
      "  warnings.warn(\n"
     ]
    },
    {
     "data": {
      "application/vnd.jupyter.widget-view+json": {
       "model_id": "879c3e8cf95f45b7820530901df6a3bb",
       "version_major": 2,
       "version_minor": 0
      },
      "text/plain": [
       "tokenizer_config.json:   0%|          | 0.00/48.0 [00:00<?, ?B/s]"
      ]
     },
     "metadata": {},
     "output_type": "display_data"
    },
    {
     "name": "stderr",
     "output_type": "stream",
     "text": [
      "C:\\Users\\shaif\\anaconda3\\lib\\site-packages\\huggingface_hub\\file_download.py:147: UserWarning: `huggingface_hub` cache-system uses symlinks by default to efficiently store duplicated files but your machine does not support them in C:\\Users\\shaif\\.cache\\huggingface\\hub\\models--bert-base-uncased. Caching files will still work but in a degraded version that might require more space on your disk. This warning can be disabled by setting the `HF_HUB_DISABLE_SYMLINKS_WARNING` environment variable. For more details, see https://huggingface.co/docs/huggingface_hub/how-to-cache#limitations.\n",
      "To support symlinks on Windows, you either need to activate Developer Mode or to run Python as an administrator. In order to activate developer mode, see this article: https://docs.microsoft.com/en-us/windows/apps/get-started/enable-your-device-for-development\n",
      "  warnings.warn(message)\n"
     ]
    },
    {
     "data": {
      "application/vnd.jupyter.widget-view+json": {
       "model_id": "52855b216a974a74ba59c87d0788babb",
       "version_major": 2,
       "version_minor": 0
      },
      "text/plain": [
       "config.json:   0%|          | 0.00/570 [00:00<?, ?B/s]"
      ]
     },
     "metadata": {},
     "output_type": "display_data"
    },
    {
     "data": {
      "application/vnd.jupyter.widget-view+json": {
       "model_id": "9ebe42a523134e1b880de4e003c3f82c",
       "version_major": 2,
       "version_minor": 0
      },
      "text/plain": [
       "vocab.txt:   0%|          | 0.00/232k [00:00<?, ?B/s]"
      ]
     },
     "metadata": {},
     "output_type": "display_data"
    },
    {
     "data": {
      "application/vnd.jupyter.widget-view+json": {
       "model_id": "439cd401f3d14f3792ab5713801702af",
       "version_major": 2,
       "version_minor": 0
      },
      "text/plain": [
       "tokenizer.json:   0%|          | 0.00/466k [00:00<?, ?B/s]"
      ]
     },
     "metadata": {},
     "output_type": "display_data"
    },
    {
     "name": "stdout",
     "output_type": "stream",
     "text": [
      "(<tf.Tensor: shape=(8, 256), dtype=int32, numpy=\n",
      "array([[  101,  2507,  2115, ...,     0,     0,     0],\n",
      "       [  101, 16222,  2121, ...,     0,     0,     0],\n",
      "       [  101,  1996, 12398, ...,     0,     0,     0],\n",
      "       ...,\n",
      "       [  101, 12944,  9367, ...,     0,     0,     0],\n",
      "       [  101,  1996,  9367, ...,     0,     0,     0],\n",
      "       [  101, 12944,  3675, ...,     0,     0,     0]])>, <tf.Tensor: shape=(8, 256), dtype=int32, numpy=\n",
      "array([[  101,  1311, 29864, ...,     0,     0,     0],\n",
      "       [  101,   100,  1328, ...,     0,     0,     0],\n",
      "       [  101,  1327, 29877, ...,     0,     0,     0],\n",
      "       ...,\n",
      "       [  101,  1311, 29871, ...,     0,     0,     0],\n",
      "       [  101,  1328, 29875, ...,     0,     0,     0],\n",
      "       [  101,  1338, 29878, ...,     0,     0,     0]])>)\n"
     ]
    }
   ],
   "source": [
    "import tensorflow as tf\n",
    "from datasets import load_dataset\n",
    "from transformers import AutoTokenizer\n",
    "\n",
    "# Load the IITB Hindi-English dataset\n",
    "dataset = load_dataset(\"cfilt/iitb-english-hindi\")\n",
    "\n",
    "# Select a subset for training and validation\n",
    "train_data = dataset[\"train\"].select(range(1000))\n",
    "val_data = dataset[\"validation\"]\n",
    "\n",
    "# Define a preprocessing function\n",
    "def preprocess_data(example):\n",
    "    input_text = example['translation']['en']\n",
    "    target_text = example['translation']['hi']\n",
    "    return input_text, target_text\n",
    "\n",
    "# Extract input and target texts\n",
    "train_input_texts, train_target_texts = zip(*[preprocess_data(x) for x in train_data])\n",
    "val_input_texts, val_target_texts = zip(*[preprocess_data(x) for x in val_data])\n",
    "\n",
    "# Load Hugging Face tokenizer\n",
    "tokenizer = AutoTokenizer.from_pretrained(\"bert-base-uncased\")\n",
    "\n",
    "# Tokenize the data\n",
    "def tokenize_texts(texts):\n",
    "    return tokenizer(\n",
    "        texts, \n",
    "        padding=\"max_length\", \n",
    "        truncation=True, \n",
    "        max_length=256, \n",
    "        return_tensors=\"tf\"\n",
    "    )[\"input_ids\"]\n",
    "\n",
    "train_inputs = tokenize_texts(train_input_texts)\n",
    "train_targets = tokenize_texts(train_target_texts)\n",
    "val_inputs = tokenize_texts(val_input_texts)\n",
    "val_targets = tokenize_texts(val_target_texts)\n",
    "\n",
    "# Prepare TensorFlow datasets\n",
    "train_dataset = tf.data.Dataset.from_tensor_slices((train_inputs, train_targets)).batch(8).prefetch(tf.data.AUTOTUNE)\n",
    "val_dataset = tf.data.Dataset.from_tensor_slices((val_inputs, val_targets)).batch(8).prefetch(tf.data.AUTOTUNE)\n",
    "\n",
    "# Verify the dataset\n",
    "for batch in train_dataset.take(1):\n",
    "    print(batch)\n"
   ]
  },
  {
   "cell_type": "code",
   "execution_count": null,
   "id": "97949307",
   "metadata": {},
   "outputs": [],
   "source": []
  },
  {
   "cell_type": "code",
   "execution_count": 2,
   "id": "5a49b397",
   "metadata": {},
   "outputs": [
    {
     "ename": "ImportError",
     "evalue": "cannot import name 'GemmaCausalLM' from 'keras_nlp.models' (C:\\Users\\shaif\\anaconda3\\lib\\site-packages\\keras_nlp\\models\\__init__.py)",
     "output_type": "error",
     "traceback": [
      "\u001b[1;31m---------------------------------------------------------------------------\u001b[0m",
      "\u001b[1;31mImportError\u001b[0m                               Traceback (most recent call last)",
      "Cell \u001b[1;32mIn[2], line 2\u001b[0m\n\u001b[0;32m      1\u001b[0m \u001b[38;5;28;01mimport\u001b[39;00m \u001b[38;5;21;01mkeras_nlp\u001b[39;00m\n\u001b[1;32m----> 2\u001b[0m \u001b[38;5;28;01mfrom\u001b[39;00m \u001b[38;5;21;01mkeras_nlp\u001b[39;00m\u001b[38;5;21;01m.\u001b[39;00m\u001b[38;5;21;01mmodels\u001b[39;00m \u001b[38;5;28;01mimport\u001b[39;00m GemmaCausalLM\n\u001b[0;32m      4\u001b[0m \u001b[38;5;66;03m# Load the Gemma model with the instruction-tuned preset\u001b[39;00m\n\u001b[0;32m      5\u001b[0m model \u001b[38;5;241m=\u001b[39m GemmaCausalLM\u001b[38;5;241m.\u001b[39mfrom_preset(\u001b[38;5;124m\"\u001b[39m\u001b[38;5;124mgemma_1.1_instruct_2b_en\u001b[39m\u001b[38;5;124m\"\u001b[39m)\n",
      "\u001b[1;31mImportError\u001b[0m: cannot import name 'GemmaCausalLM' from 'keras_nlp.models' (C:\\Users\\shaif\\anaconda3\\lib\\site-packages\\keras_nlp\\models\\__init__.py)"
     ]
    }
   ],
   "source": [
    "import keras_nlp\n",
    "from keras_nlp.models import GemmaCausalLM\n",
    "\n",
    "# Load the Gemma model with the instruction-tuned preset\n",
    "model = GemmaCausalLM.from_preset(\"gemma_1.1_instruct_2b_en\")\n",
    "\n",
    "# Compile the model with optimizer and loss function\n",
    "model.compile(\n",
    "    optimizer=tf.keras.optimizers.Adam(learning_rate=1e-4),\n",
    "    loss=tf.keras.losses.SparseCategoricalCrossentropy(from_logits=True)\n",
    ")\n",
    "\n",
    "# Fine-tune the model (without batch_size argument)\n",
    "model.fit(\n",
    "    train_dataset,\n",
    "    validation_data=val_dataset,\n",
    "    epochs=2  # Adjust epochs based on your requirements\n",
    ")\n"
   ]
  },
  {
   "cell_type": "code",
   "execution_count": null,
   "id": "82d8546b",
   "metadata": {},
   "outputs": [],
   "source": []
  },
  {
   "cell_type": "code",
   "execution_count": null,
   "id": "de5a6188",
   "metadata": {},
   "outputs": [],
   "source": []
  },
  {
   "cell_type": "code",
   "execution_count": null,
   "id": "387104ad",
   "metadata": {},
   "outputs": [],
   "source": []
  },
  {
   "cell_type": "code",
   "execution_count": null,
   "id": "f04280ce",
   "metadata": {},
   "outputs": [],
   "source": []
  },
  {
   "cell_type": "code",
   "execution_count": null,
   "id": "de8cc23e",
   "metadata": {},
   "outputs": [],
   "source": []
  },
  {
   "cell_type": "code",
   "execution_count": null,
   "id": "7f463439",
   "metadata": {},
   "outputs": [],
   "source": []
  },
  {
   "cell_type": "code",
   "execution_count": null,
   "id": "dc3e1376",
   "metadata": {},
   "outputs": [],
   "source": []
  }
 ],
 "metadata": {
  "kernelspec": {
   "display_name": "Python 3 (ipykernel)",
   "language": "python",
   "name": "python3"
  },
  "language_info": {
   "codemirror_mode": {
    "name": "ipython",
    "version": 3
   },
   "file_extension": ".py",
   "mimetype": "text/x-python",
   "name": "python",
   "nbconvert_exporter": "python",
   "pygments_lexer": "ipython3",
   "version": "3.10.9"
  }
 },
 "nbformat": 4,
 "nbformat_minor": 5
}
