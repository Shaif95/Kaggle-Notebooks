{
 "cells": [
  {
   "cell_type": "code",
   "execution_count": null,
   "id": "f6ca6200",
   "metadata": {},
   "outputs": [],
   "source": [
    "import pandas as pd\n",
    "import polars as pl\n",
    "import matplotlib.pyplot as plt\n",
    "import numpy as np\n",
    "import scipy.stats\n",
    "from tqdm import tqdm\n",
    "import pickle\n",
    "\n",
    "from sklearn.linear_model import Ridge\n",
    "directory = \"/kaggle/input/test-001/\""
   ]
  },
  {
   "cell_type": "code",
   "execution_count": null,
   "id": "ac09e9f5",
   "metadata": {},
   "outputs": [],
   "source": [
    "#f_read_and_preprocess\n",
    "\n",
    "def f_read_and_preprocess(dataset, adc_info, planet_ids):\n",
    "    \"\"\"Read the FGS1 files for all planet_ids and extract the time series.\n",
    "    \n",
    "    Parameters\n",
    "    dataset: 'train' or 'test'\n",
    "    adc_info: metadata dataframe, either train_adc_info or test_adc_info\n",
    "    planet_ids: list of planet ids\n",
    "    \n",
    "    Returns\n",
    "    dataframe with one row per planet_id and 67500 values per row\n",
    "    \n",
    "    \"\"\"\n",
    "    f_raw_train = np.full((len(planet_ids), 67500), np.nan, dtype=np.float32)\n",
    "    for i, planet_id in tqdm(list(enumerate(planet_ids))):\n",
    "        f_signal = pl.read_parquet(f'../input/ariel-data-challenge-2024/{dataset}/{planet_id}/FGS1_signal.parquet')\n",
    "        mean_signal = f_signal.cast(pl.Int32).sum_horizontal().cast(pl.Float32).to_numpy() / 1024 # mean over the 32*32 pixels\n",
    "        net_signal = mean_signal[1::2] - mean_signal[0::2]\n",
    "        f_raw_train[i] = net_signal\n",
    "    return f_raw_train"
   ]
  },
  {
   "cell_type": "code",
   "execution_count": null,
   "id": "7a4ee3f1",
   "metadata": {},
   "outputs": [],
   "source": [
    "# a_read_and_preprocess\n",
    "def a_read_and_preprocess(dataset, adc_info, planet_ids):\n",
    "    \"\"\"Read the AIRS-CH0 files for all planet_ids and extract the time series.\n",
    "    \n",
    "    Parameters\n",
    "    dataset: 'train' or 'test'\n",
    "    adc_info: metadata dataframe, either train_adc_info or test_adc_info\n",
    "    planet_ids: list of planet ids\n",
    "    \n",
    "    Returns\n",
    "    dataframe with one row per planet_id and 5625 values per row\n",
    "    \n",
    "    \"\"\"\n",
    "    a_raw_train = np.full((len(planet_ids), 5625), np.nan, dtype=np.float32)\n",
    "    for i, planet_id in tqdm(list(enumerate(planet_ids))):\n",
    "        signal = pl.read_parquet(f'../input/ariel-data-challenge-2024/{dataset}/{planet_id}/AIRS-CH0_signal.parquet')\n",
    "        mean_signal = signal.cast(pl.Int32).sum_horizontal().cast(pl.Float32).to_numpy() / (32*356) # mean over the 32*356 pixels\n",
    "        net_signal = mean_signal[1::2] - mean_signal[0::2]\n",
    "        a_raw_train[i] = net_signal\n",
    "    return a_raw_train"
   ]
  },
  {
   "cell_type": "code",
   "execution_count": null,
   "id": "d3393714",
   "metadata": {},
   "outputs": [],
   "source": [
    "# feature_engineering\n",
    "def feature_engineering(f_raw, a_raw):\n",
    "    \"\"\"Create a dataframe with two features from the raw data.\n",
    "    \n",
    "    Parameters:\n",
    "    f_raw: ndarray of shape (n_planets, 67500)\n",
    "    a_raw: ndarray of shape (n_planets, 5625)\n",
    "    \n",
    "    Return value:\n",
    "    df: DataFrame of shape (n_planets, 2)\n",
    "    \"\"\"\n",
    "    obscured = f_raw[:, 23500:44000].mean(axis=1)\n",
    "    unobscured = (f_raw[:, :20500].mean(axis=1) + f_raw[:, 47000:].mean(axis=1)) / 2\n",
    "    f_relative_reduction = (unobscured - obscured) / unobscured\n",
    "    \n",
    "    half_obscured1 = f_raw[:, 20500:23500].mean(axis=1)\n",
    "    half_obscured2 = f_raw[:, 44000:47000].mean(axis=1)\n",
    "    f_half_reduction1 = (unobscured - half_obscured1) / unobscured\n",
    "    f_half_reduction2 = (unobscured - half_obscured2) / unobscured\n",
    "    \n",
    "    obscured = a_raw[:, 1958:3666].mean(axis=1)\n",
    "    unobscured = (a_raw[:, :1708].mean(axis=1) + a_raw[:, 3916:].mean(axis=1)) / 2\n",
    "    a_relative_reduction = (unobscured - obscured) / unobscured\n",
    "    \n",
    "    half_obscured1 = a_raw[:, 1708:1958].mean(axis=1)\n",
    "    half_obscured2 = a_raw[:, 3666:3916].mean(axis=1)\n",
    "    a_half_reduction1 = (unobscured - half_obscured1) / unobscured\n",
    "    a_half_reduction2 = (unobscured - half_obscured2) / unobscured\n",
    "\n",
    "    df = pd.DataFrame({'a_relative_reduction': a_relative_reduction,\n",
    "                       'f_relative_reduction': f_relative_reduction,\n",
    "                      'f_half_reduction1': f_half_reduction1,\n",
    "                       'f_half_reduction2': f_half_reduction2,\n",
    "                       'a_half_reduction1': a_half_reduction1,\n",
    "                       'a_half_reduction2': a_half_reduction2\n",
    "                      \n",
    "                      })\n",
    "    \n",
    "    return df"
   ]
  },
  {
   "cell_type": "code",
   "execution_count": null,
   "id": "878c2339",
   "metadata": {},
   "outputs": [],
   "source": [
    "# 'postprocessing\n",
    "def postprocessing(pred_array, index, sigma_pred):\n",
    "    \"\"\"Create a submission dataframe from its components\n",
    "    \n",
    "    Parameters:\n",
    "    pred_array: ndarray of shape (n_samples, 283)\n",
    "    index: pandas.Index of length n_samples with name 'planet_id'\n",
    "    sigma_pred: float\n",
    "    \n",
    "    Return value:\n",
    "    df: DataFrame of shape (n_samples, 566) with planet_id as index\n",
    "    \"\"\"\n",
    "    return pd.concat([pd.DataFrame(pred_array.clip(0, None), index=index, columns=wavelengths.columns),\n",
    "                      pd.DataFrame(sigma_pred, index=index, columns=[f\"sigma_{i}\" for i in range(1, 284)])],\n",
    "                     axis=1)"
   ]
  },
  {
   "cell_type": "code",
   "execution_count": null,
   "id": "f181fab3",
   "metadata": {},
   "outputs": [],
   "source": [
    "# Load the data\n",
    "wavelengths = pd.read_csv('../input/ariel-data-challenge-2024/wavelengths.csv')\n",
    "test_adc_info = pd.read_csv('../input/ariel-data-challenge-2024/test_adc_info.csv',\n",
    "                           index_col='planet_id')\n",
    "f_raw_test = f_read_and_preprocess('test', test_adc_info, test_adc_info.index)\n",
    "a_raw_test = a_read_and_preprocess('test', test_adc_info, test_adc_info.index)\n",
    "test = feature_engineering(f_raw_test, a_raw_test)\n",
    "\n",
    "# Load the model\n",
    "with open(directory + 'model.pickle', 'rb') as f:\n",
    "    model = pickle.load(f)\n",
    "with open(directory + 'sigma_pred.pickle', 'rb') as f:\n",
    "    sigma_pred = pickle.load(f)\n",
    "    \n",
    "# Predict\n",
    "test_pred = model.predict(test)\n",
    "\n",
    "# Package into submission file\n",
    "sub_df = postprocessing(test_pred,\n",
    "                        test_adc_info.index,\n",
    "                        sigma_pred=np.tile(np.where(test_adc_info[['star']] <= 1, sigma_pred, 0.001), (1, 283)))\n",
    "display(sub_df)\n",
    "sub_df.to_csv('submission.csv')\n",
    "#!head submission.csv"
   ]
  },
  {
   "cell_type": "code",
   "execution_count": null,
   "id": "25ad4237",
   "metadata": {},
   "outputs": [],
   "source": []
  },
  {
   "cell_type": "code",
   "execution_count": null,
   "id": "1cdc8389",
   "metadata": {},
   "outputs": [],
   "source": []
  },
  {
   "cell_type": "code",
   "execution_count": null,
   "id": "b93b9ea6",
   "metadata": {},
   "outputs": [],
   "source": []
  },
  {
   "cell_type": "code",
   "execution_count": null,
   "id": "b1528c98",
   "metadata": {},
   "outputs": [],
   "source": []
  },
  {
   "cell_type": "code",
   "execution_count": null,
   "id": "e6ca98ce",
   "metadata": {},
   "outputs": [],
   "source": []
  },
  {
   "cell_type": "code",
   "execution_count": null,
   "id": "6ce3d014",
   "metadata": {},
   "outputs": [],
   "source": []
  },
  {
   "cell_type": "code",
   "execution_count": null,
   "id": "21a91497",
   "metadata": {},
   "outputs": [],
   "source": []
  },
  {
   "cell_type": "code",
   "execution_count": null,
   "id": "e41ca22a",
   "metadata": {},
   "outputs": [],
   "source": []
  },
  {
   "cell_type": "code",
   "execution_count": null,
   "id": "b44545de",
   "metadata": {},
   "outputs": [],
   "source": []
  },
  {
   "cell_type": "code",
   "execution_count": null,
   "id": "dc39cdeb",
   "metadata": {},
   "outputs": [],
   "source": []
  },
  {
   "cell_type": "code",
   "execution_count": null,
   "id": "9606a229",
   "metadata": {},
   "outputs": [],
   "source": []
  },
  {
   "cell_type": "code",
   "execution_count": null,
   "id": "60472441",
   "metadata": {},
   "outputs": [],
   "source": []
  },
  {
   "cell_type": "code",
   "execution_count": null,
   "id": "b7931722",
   "metadata": {},
   "outputs": [],
   "source": []
  }
 ],
 "metadata": {
  "kernelspec": {
   "display_name": "Python 3 (ipykernel)",
   "language": "python",
   "name": "python3"
  },
  "language_info": {
   "codemirror_mode": {
    "name": "ipython",
    "version": 3
   },
   "file_extension": ".py",
   "mimetype": "text/x-python",
   "name": "python",
   "nbconvert_exporter": "python",
   "pygments_lexer": "ipython3",
   "version": "3.8.18"
  }
 },
 "nbformat": 4,
 "nbformat_minor": 5
}
