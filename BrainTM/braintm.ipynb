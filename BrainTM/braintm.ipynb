{
 "cells": [
  {
   "cell_type": "code",
   "execution_count": 1,
   "id": "357e5882",
   "metadata": {
    "_cell_guid": "b1076dfc-b9ad-4769-8c92-a6c4dae69d19",
    "_uuid": "8f2839f25d086af736a60e9eeb907d3b93b6e0e5",
    "execution": {
     "iopub.execute_input": "2021-12-28T03:25:07.924299Z",
     "iopub.status.busy": "2021-12-28T03:25:07.922862Z",
     "iopub.status.idle": "2021-12-28T03:25:07.931711Z",
     "shell.execute_reply": "2021-12-28T03:25:07.932135Z",
     "shell.execute_reply.started": "2021-08-13T06:46:23.370828Z"
    },
    "papermill": {
     "duration": 0.0375,
     "end_time": "2021-12-28T03:25:07.932355",
     "exception": false,
     "start_time": "2021-12-28T03:25:07.894855",
     "status": "completed"
    },
    "tags": []
   },
   "outputs": [],
   "source": [
    "# This Python 3 environment comes with many helpful analytics libraries installed\n",
    "# It is defined by the kaggle/python Docker image: https://github.com/kaggle/docker-python\n",
    "# For example, here's several helpful packages to load\n",
    "\n",
    "import numpy as np # linear algebra\n",
    "import pandas as pd # data processing, CSV file I/O (e.g. pd.read_csv)\n",
    "\n",
    "# Input data files are available in the read-only \"../input/\" directory\n",
    "# For example, running this (by clicking run or pressing Shift+Enter) will list all files under the input directory\n",
    "\n",
    "import os\n",
    "#for dirname, _, filenames in os.walk('/kaggle/input'):\n",
    "    #for filename in filenames:\n",
    "        #print(os.path.join(dirname, filename))\n",
    "\n",
    "# You can write up to 20GB to the current directory (/kaggle/working/) that gets preserved as output when you create a version using \"Save & Run All\" \n",
    "# You can also write temporary files to /kaggle/temp/, but they won't be saved outside of the current session"
   ]
  },
  {
   "cell_type": "code",
   "execution_count": 2,
   "id": "0910c432",
   "metadata": {
    "execution": {
     "iopub.execute_input": "2021-12-28T03:25:07.980774Z",
     "iopub.status.busy": "2021-12-28T03:25:07.980113Z",
     "iopub.status.idle": "2021-12-28T03:25:08.979041Z",
     "shell.execute_reply": "2021-12-28T03:25:08.978540Z",
     "shell.execute_reply.started": "2021-08-13T06:46:23.378642Z"
    },
    "papermill": {
     "duration": 1.024671,
     "end_time": "2021-12-28T03:25:08.979174",
     "exception": false,
     "start_time": "2021-12-28T03:25:07.954503",
     "status": "completed"
    },
    "tags": []
   },
   "outputs": [],
   "source": [
    "import os\n",
    "import json\n",
    "import glob\n",
    "import random\n",
    "import collections\n",
    "\n",
    "import numpy as np\n",
    "import pandas as pd\n",
    "import pydicom\n",
    "from pydicom.pixel_data_handlers.util import apply_voi_lut\n",
    "import cv2\n",
    "import matplotlib.pyplot as plt\n",
    "import seaborn as sns"
   ]
  },
  {
   "cell_type": "code",
   "execution_count": 3,
   "id": "2c4569f3",
   "metadata": {
    "execution": {
     "iopub.execute_input": "2021-12-28T03:25:09.028095Z",
     "iopub.status.busy": "2021-12-28T03:25:09.027520Z",
     "iopub.status.idle": "2021-12-28T03:25:11.052036Z",
     "shell.execute_reply": "2021-12-28T03:25:11.051526Z",
     "shell.execute_reply.started": "2021-08-13T06:46:24.016743Z"
    },
    "papermill": {
     "duration": 2.050247,
     "end_time": "2021-12-28T03:25:11.052170",
     "exception": false,
     "start_time": "2021-12-28T03:25:09.001923",
     "status": "completed"
    },
    "tags": []
   },
   "outputs": [],
   "source": [
    "train_df = pd.read_csv(\"../input/rsna-miccai-brain-tumor-radiogenomic-classification/train_labels.csv\")\n",
    "\n",
    "import pydicom\n",
    "from fastai.vision.all import *\n",
    "np.random.seed(20210717)"
   ]
  },
  {
   "cell_type": "code",
   "execution_count": null,
   "id": "5159d7e6",
   "metadata": {
    "papermill": {
     "duration": 0.022511,
     "end_time": "2021-12-28T03:25:11.096325",
     "exception": false,
     "start_time": "2021-12-28T03:25:11.073814",
     "status": "completed"
    },
    "tags": []
   },
   "outputs": [],
   "source": []
  },
  {
   "cell_type": "code",
   "execution_count": 4,
   "id": "7bea1faa",
   "metadata": {
    "execution": {
     "iopub.execute_input": "2021-12-28T03:25:11.187046Z",
     "iopub.status.busy": "2021-12-28T03:25:11.185690Z",
     "iopub.status.idle": "2021-12-28T03:25:11.204013Z",
     "shell.execute_reply": "2021-12-28T03:25:11.202391Z",
     "shell.execute_reply.started": "2021-08-13T06:46:25.691486Z"
    },
    "papermill": {
     "duration": 0.070679,
     "end_time": "2021-12-28T03:25:11.204149",
     "exception": false,
     "start_time": "2021-12-28T03:25:11.133470",
     "status": "completed"
    },
    "tags": []
   },
   "outputs": [],
   "source": [
    "path = Path('/kaggle/input/rsna-miccai-brain-tumor-radiogenomic-classification')\n",
    "path_train = path/'train'\n",
    "path_test = path/'test'\n",
    "\n",
    "train_df = pd.read_csv(path/'train_labels.csv')\n",
    "sub_df = pd.read_csv(path/'sample_submission.csv')"
   ]
  },
  {
   "cell_type": "code",
   "execution_count": 5,
   "id": "425beeca",
   "metadata": {
    "execution": {
     "iopub.execute_input": "2021-12-28T03:25:11.301036Z",
     "iopub.status.busy": "2021-12-28T03:25:11.295871Z",
     "iopub.status.idle": "2021-12-28T03:25:11.314097Z",
     "shell.execute_reply": "2021-12-28T03:25:11.315172Z",
     "shell.execute_reply.started": "2021-08-13T06:46:25.710561Z"
    },
    "papermill": {
     "duration": 0.069308,
     "end_time": "2021-12-28T03:25:11.315367",
     "exception": false,
     "start_time": "2021-12-28T03:25:11.246059",
     "status": "completed"
    },
    "tags": []
   },
   "outputs": [],
   "source": [
    "y_train = []\n",
    "for i in range(len(train_df)):\n",
    "    ref = train_df.loc[i, 'MGMT_value']\n",
    "    y_train.append(ref)"
   ]
  },
  {
   "cell_type": "code",
   "execution_count": 6,
   "id": "3a40a05c",
   "metadata": {
    "execution": {
     "iopub.execute_input": "2021-12-28T03:25:11.401573Z",
     "iopub.status.busy": "2021-12-28T03:25:11.400813Z",
     "iopub.status.idle": "2021-12-28T03:25:11.408051Z",
     "shell.execute_reply": "2021-12-28T03:25:11.408622Z",
     "shell.execute_reply.started": "2021-08-13T06:46:25.739221Z"
    },
    "papermill": {
     "duration": 0.05156,
     "end_time": "2021-12-28T03:25:11.408819",
     "exception": false,
     "start_time": "2021-12-28T03:25:11.357259",
     "status": "completed"
    },
    "tags": []
   },
   "outputs": [
    {
     "data": {
      "text/plain": [
       "307"
      ]
     },
     "execution_count": 6,
     "metadata": {},
     "output_type": "execute_result"
    }
   ],
   "source": [
    "count = 0\n",
    "for i in range(len(y_train)):\n",
    "    if(y_train[i]==1):\n",
    "        count = count +1;\n",
    "count"
   ]
  },
  {
   "cell_type": "code",
   "execution_count": 7,
   "id": "924c509b",
   "metadata": {
    "execution": {
     "iopub.execute_input": "2021-12-28T03:25:11.492863Z",
     "iopub.status.busy": "2021-12-28T03:25:11.492102Z",
     "iopub.status.idle": "2021-12-28T03:25:11.565087Z",
     "shell.execute_reply": "2021-12-28T03:25:11.566060Z",
     "shell.execute_reply.started": "2021-08-13T06:46:25.760024Z"
    },
    "papermill": {
     "duration": 0.121766,
     "end_time": "2021-12-28T03:25:11.566242",
     "exception": false,
     "start_time": "2021-12-28T03:25:11.444476",
     "status": "completed"
    },
    "tags": []
   },
   "outputs": [],
   "source": [
    "from glob import glob\n",
    "df = pd.read_csv('/kaggle/input/rsna-miccai-brain-tumor-radiogenomic-classification/train_labels.csv')\n",
    "la_train = df['MGMT_value'].to_numpy()\n",
    "trn='/kaggle/input/rsna-miccai-brain-tumor-radiogenomic-classification/train/'\n",
    "tst='/kaggle/input/rsna-miccai-brain-tumor-radiogenomic-classification/test/'\n",
    "test= glob(tst+'*/')\n",
    "train=glob(trn+'*/')\n",
    "data = []\n",
    "df = pd.DataFrame(data, columns=['BraTS21ID', 'MGMT_value'])"
   ]
  },
  {
   "cell_type": "code",
   "execution_count": null,
   "id": "3e64d9c0",
   "metadata": {
    "papermill": {
     "duration": 0.034341,
     "end_time": "2021-12-28T03:25:11.636383",
     "exception": false,
     "start_time": "2021-12-28T03:25:11.602042",
     "status": "completed"
    },
    "tags": []
   },
   "outputs": [],
   "source": []
  },
  {
   "cell_type": "code",
   "execution_count": null,
   "id": "d319aaa1",
   "metadata": {
    "papermill": {
     "duration": 0.021299,
     "end_time": "2021-12-28T03:25:11.689397",
     "exception": false,
     "start_time": "2021-12-28T03:25:11.668098",
     "status": "completed"
    },
    "tags": []
   },
   "outputs": [],
   "source": []
  },
  {
   "cell_type": "code",
   "execution_count": null,
   "id": "a2aec607",
   "metadata": {
    "papermill": {
     "duration": 0.021322,
     "end_time": "2021-12-28T03:25:11.732644",
     "exception": false,
     "start_time": "2021-12-28T03:25:11.711322",
     "status": "completed"
    },
    "tags": []
   },
   "outputs": [],
   "source": []
  },
  {
   "cell_type": "code",
   "execution_count": null,
   "id": "2477aa5e",
   "metadata": {
    "papermill": {
     "duration": 0.021277,
     "end_time": "2021-12-28T03:25:11.775369",
     "exception": false,
     "start_time": "2021-12-28T03:25:11.754092",
     "status": "completed"
    },
    "tags": []
   },
   "outputs": [],
   "source": []
  },
  {
   "cell_type": "code",
   "execution_count": 8,
   "id": "4233472f",
   "metadata": {
    "execution": {
     "iopub.execute_input": "2021-12-28T03:25:11.826303Z",
     "iopub.status.busy": "2021-12-28T03:25:11.824776Z",
     "iopub.status.idle": "2021-12-28T03:25:11.827032Z",
     "shell.execute_reply": "2021-12-28T03:25:11.827443Z",
     "shell.execute_reply.started": "2021-08-13T06:46:25.825653Z"
    },
    "papermill": {
     "duration": 0.030834,
     "end_time": "2021-12-28T03:25:11.827567",
     "exception": false,
     "start_time": "2021-12-28T03:25:11.796733",
     "status": "completed"
    },
    "tags": []
   },
   "outputs": [],
   "source": [
    "import cv2\n",
    "def get_image12(i,k,a):\n",
    "    #print(i)\n",
    "    subf = glob(i+'*/')\n",
    "    img = glob(subf[k]+'*')\n",
    "    k = len(img)\n",
    "    res = [[0]*128]*128\n",
    "    for a in range(k) :\n",
    "        dicom = pydicom.read_file(img[a])\n",
    "        d = dicom.pixel_array.astype(np.float32)\n",
    "        e = cv2.resize(np.array(d), dsize=(128, 128), interpolation=cv2.INTER_CUBIC) \n",
    "        res = res + np.array(e)\n",
    "    rgb = cv2.resize(res, dsize=(128, 128), interpolation=cv2.INTER_CUBIC)    \n",
    "    return res.reshape(128, 128,1)"
   ]
  },
  {
   "cell_type": "code",
   "execution_count": 9,
   "id": "637ef95c",
   "metadata": {
    "execution": {
     "iopub.execute_input": "2021-12-28T03:25:11.876948Z",
     "iopub.status.busy": "2021-12-28T03:25:11.876261Z",
     "iopub.status.idle": "2021-12-28T03:25:11.879041Z",
     "shell.execute_reply": "2021-12-28T03:25:11.878479Z",
     "shell.execute_reply.started": "2021-08-13T06:46:25.835161Z"
    },
    "papermill": {
     "duration": 0.029953,
     "end_time": "2021-12-28T03:25:11.879159",
     "exception": false,
     "start_time": "2021-12-28T03:25:11.849206",
     "status": "completed"
    },
    "tags": []
   },
   "outputs": [],
   "source": [
    "def get_image(i,k,a):\n",
    "    subf = glob(a[i]+'*/')\n",
    "    img = glob(subf[k]+'*')\n",
    "    k = len(img)\n",
    "    res = [[0]*128]*128\n",
    "    for a in range(k) :\n",
    "        dicom = pydicom.read_file(img[a])\n",
    "        d = dicom.pixel_array.astype(np.float32)\n",
    "        e = cv2.resize(np.array(d), dsize=(128, 128), interpolation=cv2.INTER_CUBIC) \n",
    "        res = res + np.array(e)\n",
    "    rgb = cv2.resize(res, dsize=(128, 128), interpolation=cv2.INTER_CUBIC)    \n",
    "    return res.reshape(128, 128,1)"
   ]
  },
  {
   "cell_type": "code",
   "execution_count": 10,
   "id": "68fdcae2",
   "metadata": {
    "execution": {
     "iopub.execute_input": "2021-12-28T03:25:11.926750Z",
     "iopub.status.busy": "2021-12-28T03:25:11.926210Z",
     "iopub.status.idle": "2021-12-28T03:25:15.750949Z",
     "shell.execute_reply": "2021-12-28T03:25:15.751349Z",
     "shell.execute_reply.started": "2021-08-13T06:46:25.847797Z"
    },
    "papermill": {
     "duration": 3.850995,
     "end_time": "2021-12-28T03:25:15.751494",
     "exception": false,
     "start_time": "2021-12-28T03:25:11.900499",
     "status": "completed"
    },
    "tags": []
   },
   "outputs": [
    {
     "data": {
      "text/plain": [
       "<matplotlib.image.AxesImage at 0x7f2fe07d8e50>"
      ]
     },
     "execution_count": 10,
     "metadata": {},
     "output_type": "execute_result"
    },
    {
     "data": {
      "image/png": "[encoded data removed]",
      "text/plain": [
       "<Figure size 432x288 with 1 Axes>"
      ]
     },
     "metadata": {
      "needs_background": "light"
     },
     "output_type": "display_data"
    }
   ],
   "source": [
    "def get_tar(k , a) :\n",
    "    img =  get_image(k,1,a) + get_image(k,2,a) + get_image(k,3,a) + get_image(k,0,a) \n",
    "    return img\n",
    "img = get_tar(3,train )\n",
    "plt.imshow(img)\n"
   ]
  },
  {
   "cell_type": "code",
   "execution_count": 11,
   "id": "477ed261",
   "metadata": {
    "execution": {
     "iopub.execute_input": "2021-12-28T03:25:15.803718Z",
     "iopub.status.busy": "2021-12-28T03:25:15.803192Z",
     "iopub.status.idle": "2021-12-28T03:25:15.806662Z",
     "shell.execute_reply": "2021-12-28T03:25:15.807049Z",
     "shell.execute_reply.started": "2021-08-13T06:46:28.947512Z"
    },
    "papermill": {
     "duration": 0.031753,
     "end_time": "2021-12-28T03:25:15.807179",
     "exception": false,
     "start_time": "2021-12-28T03:25:15.775426",
     "status": "completed"
    },
    "tags": []
   },
   "outputs": [],
   "source": [
    "def get_te(k , a) :\n",
    "    img = get_image12(k,1,a) + get_image12(k,0,a)  + get_image12(k,2,a) + get_image12(k,3,a)\n",
    "    return img\n"
   ]
  },
  {
   "cell_type": "code",
   "execution_count": null,
   "id": "1e77e179",
   "metadata": {
    "papermill": {
     "duration": 0.023173,
     "end_time": "2021-12-28T03:25:15.853726",
     "exception": false,
     "start_time": "2021-12-28T03:25:15.830553",
     "status": "completed"
    },
    "tags": []
   },
   "outputs": [],
   "source": []
  },
  {
   "cell_type": "code",
   "execution_count": 12,
   "id": "80b8ad4c",
   "metadata": {
    "execution": {
     "iopub.execute_input": "2021-12-28T03:25:15.903914Z",
     "iopub.status.busy": "2021-12-28T03:25:15.903273Z",
     "iopub.status.idle": "2021-12-28T03:25:19.597848Z",
     "shell.execute_reply": "2021-12-28T03:25:19.598285Z",
     "shell.execute_reply.started": "2021-08-13T06:46:28.956101Z"
    },
    "papermill": {
     "duration": 3.721405,
     "end_time": "2021-12-28T03:25:19.598440",
     "exception": false,
     "start_time": "2021-12-28T03:25:15.877035",
     "status": "completed"
    },
    "tags": []
   },
   "outputs": [
    {
     "data": {
      "text/plain": [
       "(128, 128, 1)"
      ]
     },
     "execution_count": 12,
     "metadata": {},
     "output_type": "execute_result"
    },
    {
     "data": {
      "image/png": "[encoded data removed]",
      "text/plain": [
       "<Figure size 432x288 with 1 Axes>"
      ]
     },
     "metadata": {
      "needs_background": "light"
     },
     "output_type": "display_data"
    }
   ],
   "source": [
    "img = get_tar(50,test )\n",
    "plt.imshow(img)\n",
    "np.shape(img)"
   ]
  },
  {
   "cell_type": "code",
   "execution_count": null,
   "id": "4e19ae09",
   "metadata": {
    "papermill": {
     "duration": 0.024249,
     "end_time": "2021-12-28T03:25:19.647353",
     "exception": false,
     "start_time": "2021-12-28T03:25:19.623104",
     "status": "completed"
    },
    "tags": []
   },
   "outputs": [],
   "source": []
  },
  {
   "cell_type": "code",
   "execution_count": 13,
   "id": "6d841d09",
   "metadata": {
    "execution": {
     "iopub.execute_input": "2021-12-28T03:25:19.701719Z",
     "iopub.status.busy": "2021-12-28T03:25:19.701065Z",
     "iopub.status.idle": "2021-12-28T03:25:31.704564Z",
     "shell.execute_reply": "2021-12-28T03:25:31.704038Z",
     "shell.execute_reply.started": "2021-08-13T06:46:31.289658Z"
    },
    "papermill": {
     "duration": 12.032833,
     "end_time": "2021-12-28T03:25:31.704727",
     "exception": false,
     "start_time": "2021-12-28T03:25:19.671894",
     "status": "completed"
    },
    "tags": []
   },
   "outputs": [
    {
     "data": {
      "text/plain": [
       "<matplotlib.image.AxesImage at 0x7f2fe088a090>"
      ]
     },
     "execution_count": 13,
     "metadata": {},
     "output_type": "execute_result"
    },
    {
     "data": {
      "image/png": "[encoded data removed]",
      "text/plain": [
       "<Figure size 432x288 with 1 Axes>"
      ]
     },
     "metadata": {
      "needs_background": "light"
     },
     "output_type": "display_data"
    }
   ],
   "source": [
    "\n",
    "import keras\n",
    "from keras.utils import to_categorical\n",
    "\n",
    "# One hot vector representation of labels\n",
    "yy_labels = to_categorical(la_train)\n",
    "from sklearn.utils import shuffle\n",
    "\n",
    "from sklearn.model_selection import train_test_split\n",
    "x_train = train[:540]\n",
    "x_val = train[540:585]\n",
    "y_train = yy_labels[:540]\n",
    "y_val = yy_labels[540:585]\n",
    "img = get_tar(44,x_val )\n",
    "plt.imshow(img)"
   ]
  },
  {
   "cell_type": "code",
   "execution_count": 14,
   "id": "17dbc82e",
   "metadata": {
    "execution": {
     "iopub.execute_input": "2021-12-28T03:25:31.770270Z",
     "iopub.status.busy": "2021-12-28T03:25:31.769469Z",
     "iopub.status.idle": "2021-12-28T03:25:31.772334Z",
     "shell.execute_reply": "2021-12-28T03:25:31.771753Z",
     "shell.execute_reply.started": "2021-08-13T06:46:37.53288Z"
    },
    "papermill": {
     "duration": 0.038137,
     "end_time": "2021-12-28T03:25:31.772459",
     "exception": false,
     "start_time": "2021-12-28T03:25:31.734322",
     "status": "completed"
    },
    "tags": []
   },
   "outputs": [],
   "source": [
    "class My_Custom_Generator(keras.utils.Sequence) :\n",
    "  \n",
    "  def __init__(self, filename, labels, batch_size) :\n",
    "    self.filename = filename\n",
    "    self.labels = labels\n",
    "    self.batch_size = batch_size\n",
    "    \n",
    "    \n",
    "  def __len__(self) :\n",
    "    return (np.ceil(len(self.filename) / float(self.batch_size))).astype(np.int)\n",
    "  \n",
    "  \n",
    "  def __getitem__(self, idx) :\n",
    "    batch_x = self.filename[idx * self.batch_size : (idx+1) * self.batch_size]\n",
    "    batch_y = self.labels[idx * self.batch_size : (idx+1) * self.batch_size]\n",
    "    i=0\n",
    "    return np.array([get_te(i,self.filename)for i in batch_x])/255.0, np.array(batch_y)"
   ]
  },
  {
   "cell_type": "code",
   "execution_count": null,
   "id": "bae2ea39",
   "metadata": {
    "papermill": {
     "duration": 0.02734,
     "end_time": "2021-12-28T03:25:31.827440",
     "exception": false,
     "start_time": "2021-12-28T03:25:31.800100",
     "status": "completed"
    },
    "tags": []
   },
   "outputs": [],
   "source": []
  },
  {
   "cell_type": "code",
   "execution_count": 15,
   "id": "a46edb40",
   "metadata": {
    "execution": {
     "iopub.execute_input": "2021-12-28T03:25:31.886944Z",
     "iopub.status.busy": "2021-12-28T03:25:31.886319Z",
     "iopub.status.idle": "2021-12-28T03:25:33.185218Z",
     "shell.execute_reply": "2021-12-28T03:25:33.185772Z",
     "shell.execute_reply.started": "2021-08-13T06:46:37.54207Z"
    },
    "papermill": {
     "duration": 1.330783,
     "end_time": "2021-12-28T03:25:33.185957",
     "exception": false,
     "start_time": "2021-12-28T03:25:31.855174",
     "status": "completed"
    },
    "tags": []
   },
   "outputs": [
    {
     "data": {
      "text/plain": [
       "<matplotlib.image.AxesImage at 0x7f2f90335e50>"
      ]
     },
     "execution_count": 15,
     "metadata": {},
     "output_type": "execute_result"
    },
    {
     "data": {
      "image/png": "[encoded data removed]",
      "text/plain": [
       "<Figure size 432x288 with 1 Axes>"
      ]
     },
     "metadata": {
      "needs_background": "light"
     },
     "output_type": "display_data"
    }
   ],
   "source": [
    "batch_size = 32\n",
    "\n",
    "my_training_batch_generator = My_Custom_Generator(x_train, y_train, batch_size)\n",
    "my_validation_batch_generator = My_Custom_Generator(x_val, y_val, batch_size)\n",
    "img = get_tar(200,x_train )\n",
    "plt.imshow(img)"
   ]
  },
  {
   "cell_type": "code",
   "execution_count": 16,
   "id": "97e450f2",
   "metadata": {
    "execution": {
     "iopub.execute_input": "2021-12-28T03:25:33.302806Z",
     "iopub.status.busy": "2021-12-28T03:25:33.301898Z",
     "iopub.status.idle": "2021-12-28T03:25:33.304226Z",
     "shell.execute_reply": "2021-12-28T03:25:33.303556Z",
     "shell.execute_reply.started": "2021-08-13T06:47:05.513467Z"
    },
    "papermill": {
     "duration": 0.057058,
     "end_time": "2021-12-28T03:25:33.304381",
     "exception": false,
     "start_time": "2021-12-28T03:25:33.247323",
     "status": "completed"
    },
    "tags": []
   },
   "outputs": [],
   "source": [
    "#x = my_training_batch_generator.__getitem__(3)"
   ]
  },
  {
   "cell_type": "code",
   "execution_count": 17,
   "id": "4fc496f4",
   "metadata": {
    "execution": {
     "iopub.execute_input": "2021-12-28T03:25:33.407612Z",
     "iopub.status.busy": "2021-12-28T03:25:33.406800Z",
     "iopub.status.idle": "2021-12-28T03:25:33.860845Z",
     "shell.execute_reply": "2021-12-28T03:25:33.860070Z"
    },
    "papermill": {
     "duration": 0.511093,
     "end_time": "2021-12-28T03:25:33.861101",
     "exception": true,
     "start_time": "2021-12-28T03:25:33.350008",
     "status": "failed"
    },
    "tags": []
   },
   "outputs": [
    {
     "ename": "NameError",
     "evalue": "name 'x' is not defined",
     "output_type": "error",
     "traceback": [
      "\u001b[0;31m---------------------------------------------------------------------------\u001b[0m",
      "\u001b[0;31mNameError\u001b[0m                                 Traceback (most recent call last)",
      "\u001b[0;32m<ipython-input-17-c82e9b9cbea0>\u001b[0m in \u001b[0;36m<module>\u001b[0;34m\u001b[0m\n\u001b[0;32m----> 1\u001b[0;31m \u001b[0mlen\u001b[0m\u001b[0;34m(\u001b[0m\u001b[0mx\u001b[0m\u001b[0;34m[\u001b[0m\u001b[0;36m0\u001b[0m\u001b[0;34m]\u001b[0m\u001b[0;34m[\u001b[0m\u001b[0;36m0\u001b[0m\u001b[0;34m]\u001b[0m\u001b[0;34m)\u001b[0m\u001b[0;34m\u001b[0m\u001b[0;34m\u001b[0m\u001b[0m\n\u001b[0m",
      "\u001b[0;31mNameError\u001b[0m: name 'x' is not defined"
     ]
    }
   ],
   "source": [
    "len(x[0][0])"
   ]
  },
  {
   "cell_type": "code",
   "execution_count": null,
   "id": "8bf9bf31",
   "metadata": {
    "execution": {
     "iopub.execute_input": "2021-08-13T06:47:43.184971Z",
     "iopub.status.busy": "2021-08-13T06:47:43.184562Z",
     "iopub.status.idle": "2021-08-13T06:47:43.192451Z",
     "shell.execute_reply": "2021-08-13T06:47:43.191583Z",
     "shell.execute_reply.started": "2021-08-13T06:47:43.184941Z"
    },
    "papermill": {
     "duration": null,
     "end_time": null,
     "exception": null,
     "start_time": null,
     "status": "pending"
    },
    "tags": []
   },
   "outputs": [],
   "source": [
    "import numpy as np\n",
    "import pandas as pd\n",
    "\n",
    "from skimage.io import imread\n",
    "from skimage.transform import resize\n",
    "\n",
    "import keras\n",
    "from keras.models import Sequential, Model, load_model\n",
    "from keras.layers import Input, Conv1D, Conv2D, MaxPooling1D, MaxPooling2D, Dense, Dropout, Activation, Flatten\n",
    "from keras.layers.normalization import BatchNormalization\n",
    "from keras.utils import to_categorical\n",
    "import tensorflow as tf\n",
    "from tensorflow import keras\n",
    "from tensorflow.keras import layers"
   ]
  },
  {
   "cell_type": "code",
   "execution_count": null,
   "id": "f718528f",
   "metadata": {
    "execution": {
     "iopub.execute_input": "2021-08-13T06:47:47.776029Z",
     "iopub.status.busy": "2021-08-13T06:47:47.775382Z",
     "iopub.status.idle": "2021-08-13T06:47:47.858858Z",
     "shell.execute_reply": "2021-08-13T06:47:47.857874Z",
     "shell.execute_reply.started": "2021-08-13T06:47:47.775984Z"
    },
    "papermill": {
     "duration": null,
     "end_time": null,
     "exception": null,
     "start_time": null,
     "status": "pending"
    },
    "tags": []
   },
   "outputs": [],
   "source": [
    "model = Sequential()\n",
    "model.add(Conv2D(1, kernel_size=20, activation=\"relu\", input_shape=(128, 128,1)))\n",
    "model.add(Conv2D(1, kernel_size=20, activation=\"relu\"))\n",
    "model.add(Flatten())\n",
    "model.add(Dense(512, activation=\"relu\", name=\"layer1\"))\n",
    "model.add(Dense(32, name=\"layer2\"))\n",
    "model.add(Dense(2, activation = \"softmax\"))\n",
    "model.compile(optimizer=\"adam\", loss='categorical_crossentropy', metrics=['accuracy'])\n",
    "#model.summary()"
   ]
  },
  {
   "cell_type": "code",
   "execution_count": null,
   "id": "faece13b",
   "metadata": {
    "execution": {
     "iopub.execute_input": "2021-08-13T06:47:55.7147Z",
     "iopub.status.busy": "2021-08-13T06:47:55.714339Z"
    },
    "papermill": {
     "duration": null,
     "end_time": null,
     "exception": null,
     "start_time": null,
     "status": "pending"
    },
    "tags": []
   },
   "outputs": [],
   "source": [
    "model.fit_generator(generator=my_training_batch_generator,\n",
    "                   steps_per_epoch = int(540 // batch_size),\n",
    "                   epochs = 2,\n",
    "                    verbose = 1,\n",
    "                   validation_data = my_validation_batch_generator,\n",
    "                    validation_steps = int(45 // batch_size))\n",
    "                   "
   ]
  },
  {
   "cell_type": "code",
   "execution_count": null,
   "id": "04ac923a",
   "metadata": {
    "execution": {
     "iopub.status.busy": "2021-08-13T06:46:56.744606Z",
     "iopub.status.idle": "2021-08-13T06:46:56.745321Z"
    },
    "papermill": {
     "duration": null,
     "end_time": null,
     "exception": null,
     "start_time": null,
     "status": "pending"
    },
    "tags": []
   },
   "outputs": [],
   "source": [
    "import numpy as np\n",
    "import tensorflow as tf\n",
    "from tensorflow import keras\n",
    "from keras.models import load_model\n",
    "\n",
    "#model.save(\"initial_model.h5\")"
   ]
  },
  {
   "cell_type": "code",
   "execution_count": null,
   "id": "4324151b",
   "metadata": {
    "execution": {
     "iopub.status.busy": "2021-08-13T06:46:56.746399Z",
     "iopub.status.idle": "2021-08-13T06:46:56.747007Z"
    },
    "papermill": {
     "duration": null,
     "end_time": null,
     "exception": null,
     "start_time": null,
     "status": "pending"
    },
    "tags": []
   },
   "outputs": [],
   "source": [
    "a = get_tar(500000,train)\n",
    "plt.imshow(a)"
   ]
  },
  {
   "cell_type": "code",
   "execution_count": null,
   "id": "c5ec63e2",
   "metadata": {
    "papermill": {
     "duration": null,
     "end_time": null,
     "exception": null,
     "start_time": null,
     "status": "pending"
    },
    "tags": []
   },
   "outputs": [],
   "source": []
  },
  {
   "cell_type": "code",
   "execution_count": null,
   "id": "cdf4192b",
   "metadata": {
    "papermill": {
     "duration": null,
     "end_time": null,
     "exception": null,
     "start_time": null,
     "status": "pending"
    },
    "tags": []
   },
   "outputs": [],
   "source": []
  },
  {
   "cell_type": "code",
   "execution_count": null,
   "id": "623e1710",
   "metadata": {
    "execution": {
     "iopub.status.busy": "2021-08-13T06:46:56.747996Z",
     "iopub.status.idle": "2021-08-13T06:46:56.748692Z"
    },
    "papermill": {
     "duration": null,
     "end_time": null,
     "exception": null,
     "start_time": null,
     "status": "pending"
    },
    "tags": []
   },
   "outputs": [],
   "source": [
    "!nvidia-smi"
   ]
  },
  {
   "cell_type": "code",
   "execution_count": null,
   "id": "4a19289c",
   "metadata": {
    "papermill": {
     "duration": null,
     "end_time": null,
     "exception": null,
     "start_time": null,
     "status": "pending"
    },
    "tags": []
   },
   "outputs": [],
   "source": []
  }
 ],
 "metadata": {
  "kernelspec": {
   "display_name": "Python 3",
   "language": "python",
   "name": "python3"
  },
  "language_info": {
   "codemirror_mode": {
    "name": "ipython",
    "version": 3
   },
   "file_extension": ".py",
   "mimetype": "text/x-python",
   "name": "python",
   "nbconvert_exporter": "python",
   "pygments_lexer": "ipython3",
   "version": "3.7.10"
  },
  "papermill": {
   "default_parameters": {},
   "duration": 34.625074,
   "end_time": "2021-12-28T03:25:35.983546",
   "environment_variables": {},
   "exception": true,
   "input_path": "__notebook__.ipynb",
   "output_path": "__notebook__.ipynb",
   "parameters": {},
   "start_time": "2021-12-28T03:25:01.358472",
   "version": "2.3.3"
  }
 },
 "nbformat": 4,
 "nbformat_minor": 5
}
